{
 "cells": [
  {
   "cell_type": "code",
   "execution_count": 2,
   "metadata": {},
   "outputs": [],
   "source": [
    "# !pip install lightkurve\n",
    "import lightkurve as lk\n",
    "import pandas as pd\n",
    "import matplotlib.pyplot as plt\n",
    "#import shap\n",
    "from ipywidgets.widgets.interaction import show_inline_matplotlib_plots\n",
    "from IPython.display import Markdown, display, clear_output\n",
    "import ipywidgets as widgets\n",
    "def printmd(string):\n",
    "    display(Markdown(string))\n",
    "%matplotlib inline"
   ]
  },
  {
   "cell_type": "code",
   "execution_count": 3,
   "metadata": {},
   "outputs": [],
   "source": [
    "case_interest_lc = pd.read_pickle('./data/case_interest_lc.pkl')\n",
    "predicted_planets_shaps = pd.read_pickle('./data/predicted_planets_shaps.pkl')\n",
    "\n",
    "def show_global_view(lc, i):\n",
    "    # plt.figure(figsize=(20,10))\n",
    "    lc.plot()\n",
    "    plt.title(f'Global View: {i}', fontsize=16)\n",
    "    show_inline_matplotlib_plots()\n",
    "\n",
    "def show_local_view(lc, i):\n",
    "    # plt.figure(figsize=(15,10))\n",
    "    lc.fold(period=500).plot()\n",
    "    plt.title(f'Folded View: {i}', fontsize=16)\n",
    "    show_inline_matplotlib_plots()\n",
    "    \n",
    "def plot_shap_values(case_interest_lc, i):\n",
    "    plt.figure(figsize=(15,10))\n",
    "    # index = case_interest_lc.iloc[i].index\n",
    "    dd = predicted_planets_shaps.loc[i][1:]\n",
    "    dd = dd.sort_values(ascending=False)\n",
    "    dd[:10].sort_values(ascending=True).plot(kind='barh')\n",
    "    plt.title(f'Shap Value Plot: {i}', fontsize=16)\n",
    "    show_inline_matplotlib_plots()\n",
    "\n",
    "def plot_selected(i):\n",
    "        clear_output()\n",
    "        lc = lk.LightCurve(flux=case_interest_lc.iloc[i])\n",
    "        if dropdown.value == 'Global View':\n",
    "            printmd(f'### Global View for index: {i}')\n",
    "            show_global_view(lc, i)          \n",
    "        if dropdown.value == 'Folded View':\n",
    "            printmd(f'### Folded View for index: {i}')\n",
    "            show_local_view(lc, i)\n",
    "        if dropdown.value == 'SHAP Values':\n",
    "            printmd(f'### SHAP Values for index: {i}')\n",
    "            plot_shap_values(case_interest_lc, i)\n",
    "            \n",
    "def next_button_clicked(b):\n",
    "    with out:\n",
    "        global ix\n",
    "        ix += 1\n",
    "\n",
    "def prev_button_clicked(b):\n",
    "    with out:\n",
    "        global ix\n",
    "        ix -= 1\n",
    "        if ix<0: ix=0\n",
    "        \n",
    "def refresh_button_clicked(b):\n",
    "    with out:\n",
    "        global ix\n",
    "        plot_selected(ix)"
   ]
  },
  {
   "cell_type": "code",
   "execution_count": 5,
   "metadata": {},
   "outputs": [
    {
     "data": {
      "application/vnd.jupyter.widget-view+json": {
       "model_id": "9b050e19680540608fc885fa83e96d9d",
       "version_major": 2,
       "version_minor": 0
      },
      "text/plain": [
       "VBox(children=(HBox(children=(Button(button_style='danger', description='Previous Case', layout=Layout(width='…"
      ]
     },
     "metadata": {},
     "output_type": "display_data"
    }
   ],
   "source": [
    "next_button = widgets.Button(description='Next Case', disabled=False, button_style='success', layout=widgets.Layout(width='50%'))\n",
    "prev_button = widgets.Button(description='Previous Case', disabled=False, button_style='danger', layout=widgets.Layout(width='50%'))\n",
    "dropdown = widgets.Dropdown(\n",
    "    options=['Global View','Folded View', 'SHAP Values'],\n",
    "    value='Global View',\n",
    "    description='Data Type:',\n",
    "    disabled=False,\n",
    "    layout=widgets.Layout(width='50%')\n",
    ")\n",
    "refresh_button = widgets.Button(description='Refresh', disabled=False, button_style='info', layout=widgets.Layout(width='50%'))\n",
    "out = widgets.Output(layout={'border': '1px solid black'})\n",
    "ix = 0\n",
    "\n",
    "refresh_button.on_click(refresh_button_clicked)         \n",
    "next_button.on_click(next_button_clicked)\n",
    "prev_button.on_click(prev_button_clicked)\n",
    "uphbox = widgets.HBox([dropdown, refresh_button])\n",
    "buttons = widgets.HBox([prev_button, next_button])\n",
    "widgets.VBox([buttons,uphbox,out])"
   ]
  }
 ],
 "metadata": {
  "kernelspec": {
   "display_name": "Python 3",
   "language": "python",
   "name": "python3"
  },
  "language_info": {
   "codemirror_mode": {
    "name": "ipython",
    "version": 3
   },
   "file_extension": ".py",
   "mimetype": "text/x-python",
   "name": "python",
   "nbconvert_exporter": "python",
   "pygments_lexer": "ipython3",
   "version": "3.7.3"
  }
 },
 "nbformat": 4,
 "nbformat_minor": 2
}

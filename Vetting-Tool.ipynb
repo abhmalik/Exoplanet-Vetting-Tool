{
 "cells": [
  {
   "cell_type": "code",
   "execution_count": 1,
   "metadata": {},
   "outputs": [],
   "source": [
    "import lightkurve as lk\n",
    "import pandas as pd\n",
    "import matplotlib.pyplot as plt\n",
    "from ipywidgets.widgets.interaction import show_inline_matplotlib_plots\n",
    "from IPython.display import Markdown, display, clear_output\n",
    "import ipywidgets as widgets\n",
    "from past.builtins import execfile\n",
    "def printmd(string):\n",
    "    display(Markdown(string))\n",
    "%matplotlib inline\n",
    "\n",
    "execfile('functions.py')\n",
    "case_interest_lc = pd.read_pickle('./data/case_interest_lc.pkl')\n",
    "predicted_planets_shaps = pd.read_pickle('./data/predicted_planets_shaps.pkl')"
   ]
  },
  {
   "cell_type": "code",
   "execution_count": 2,
   "metadata": {},
   "outputs": [
    {
     "data": {
      "application/vnd.jupyter.widget-view+json": {
       "model_id": "205e8f3d15e74def86f271720bb60e58",
       "version_major": 2,
       "version_minor": 0
      },
      "text/plain": [
       "VBox(children=(HBox(children=(Button(button_style='danger', description='Previous Case', layout=Layout(width='…"
      ]
     },
     "metadata": {},
     "output_type": "display_data"
    }
   ],
   "source": [
    "next_button = widgets.Button(description='Next Case', disabled=False, button_style='success', layout=widgets.Layout(width='50%'))\n",
    "prev_button = widgets.Button(description='Previous Case', disabled=False, button_style='danger', layout=widgets.Layout(width='50%'))\n",
    "dropdown = widgets.Dropdown(\n",
    "    options=['Global View','Folded View', 'SHAP Values'],\n",
    "    value='Global View',\n",
    "    description='Data Type:',\n",
    "    disabled=False,\n",
    "    layout=widgets.Layout(width='50%')\n",
    ")\n",
    "refresh_button = widgets.Button(description='Refresh', disabled=False, button_style='info', layout=widgets.Layout(width='50%'))\n",
    "out = widgets.Output(layout={'border': '1px solid black'})\n",
    "ix = 0\n",
    "\n",
    "refresh_button.on_click(refresh_button_clicked)         \n",
    "next_button.on_click(next_button_clicked)\n",
    "prev_button.on_click(prev_button_clicked)\n",
    "uphbox = widgets.HBox([dropdown, refresh_button])\n",
    "buttons = widgets.HBox([prev_button, next_button])\n",
    "widgets.VBox([buttons,uphbox,out])"
   ]
  }
 ],
 "metadata": {
  "kernelspec": {
   "display_name": "Python 3",
   "language": "python",
   "name": "python3"
  },
  "language_info": {
   "codemirror_mode": {
    "name": "ipython",
    "version": 3
   },
   "file_extension": ".py",
   "mimetype": "text/x-python",
   "name": "python",
   "nbconvert_exporter": "python",
   "pygments_lexer": "ipython3",
   "version": "3.7.3"
  }
 },
 "nbformat": 4,
 "nbformat_minor": 2
}
